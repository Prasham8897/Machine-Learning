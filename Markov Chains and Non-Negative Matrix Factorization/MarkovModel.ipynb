{
 "cells": [
  {
   "cell_type": "code",
   "execution_count": 1,
   "metadata": {},
   "outputs": [],
   "source": [
    "import numpy as np\n",
    "from operator import itemgetter\n",
    "from scipy.sparse.linalg import eigs\n",
    "from tqdm import tqdm\n",
    "import matplotlib.pyplot as plt"
   ]
  },
  {
   "cell_type": "code",
   "execution_count": 13,
   "metadata": {},
   "outputs": [],
   "source": [
    "class MarkovChain:\n",
    "    \n",
    "    def __init__(self,match_path,t2i_path,dim,timestep):\n",
    "        self.match_path = match_path\n",
    "        self.t2i_path = t2i_path\n",
    "        self.dim = dim\n",
    "        self.timestep = timestep\n",
    "    \n",
    "    def get_transition_matrix(self):\n",
    "        self.M = np.zeros((self.dim, self.dim))\n",
    "        with open(self.match_path,'r') as f:\n",
    "            matches = f.readlines()\n",
    "        for match in matches:\n",
    "            A_idx, A_pts, B_idx, B_pts = list(map(int, match.split(',')))\n",
    "            A_idx-=1\n",
    "            B_idx-=1\n",
    "            total_pts = A_pts + B_pts\n",
    "            \n",
    "            if A_pts > B_pts:\n",
    "                self.M[A_idx][A_idx] = 1 + (A_pts/total_pts)\n",
    "                self.M[B_idx][A_idx] = 1 + (A_pts/total_pts)\n",
    "                self.M[B_idx][B_idx] = 0 + (B_pts/total_pts)\n",
    "                self.M[A_idx][B_idx] = 0 + (B_pts/total_pts)\n",
    "            else:\n",
    "                self.M[A_idx][A_idx] = 0 + (A_pts/total_pts)\n",
    "                self.M[B_idx][A_idx] = 0 + (A_pts/total_pts)\n",
    "                self.M[B_idx][B_idx] = 1 + (B_pts/total_pts)\n",
    "                self.M[A_idx][B_idx] = 1 + (B_pts/total_pts)\n",
    "        \n",
    "        self.M /=  self.M.sum(axis=1)[:,np.newaxis]\n",
    "    \n",
    "    def idx2team(self):\n",
    "        with open(self.t2i_path,'r') as f:\n",
    "            self.teams = [row.strip() for row in f.readlines()]\n",
    "    \n",
    "    def get_w_inf(self):\n",
    "        vec = eigs(self.M,1)[1]\n",
    "        return vec.T / sum(vec)\n",
    "        \n",
    "    def fit(self):\n",
    "        self.get_transition_matrix()\n",
    "        self.idx2team()\n",
    "        w0 = np.random.uniform(size=self.dim)\n",
    "        self.team_scores = []\n",
    "        \n",
    "        temp = w0\n",
    "        for i in tqdm(range(0,len(self.timestep))):\n",
    "            w_t_i = np.matmul(temp,self.M)\n",
    "            temp = w_t_i\n",
    "            self.team_scores.append(w_t_i)\n",
    "        \n",
    "        self.w_inf = self.get_w_inf()\n",
    "        \n",
    "    def get_top_teams(self,top=25):\n",
    "        result = []\n",
    "        for i in self.team_scores:\n",
    "            top_team_idx = i.argsort()[-top:][::-1]\n",
    "            result.append(tuple(itemgetter(*top_team_idx+1)(self.teams))) \n",
    "        return result"
   ]
  },
  {
   "cell_type": "code",
   "execution_count": 14,
   "metadata": {},
   "outputs": [],
   "source": [
    "mc = MarkovChain('../data/CFB2019_scores.csv','../data/TeamNames.txt',769,[10,100,1000,10000])"
   ]
  },
  {
   "cell_type": "code",
   "execution_count": 15,
   "metadata": {},
   "outputs": [
    {
     "name": "stderr",
     "output_type": "stream",
     "text": [
      "100%|██████████████████████████████████████████████████████████████████████████████████| 4/4 [00:00<00:00, 4207.98it/s]\n"
     ]
    }
   ],
   "source": [
    "mc.fit()"
   ]
  },
  {
   "cell_type": "code",
   "execution_count": 16,
   "metadata": {},
   "outputs": [],
   "source": [
    "teams = mc.get_top_teams()"
   ]
  },
  {
   "cell_type": "code",
   "execution_count": 6,
   "metadata": {},
   "outputs": [
    {
     "name": "stderr",
     "output_type": "stream",
     "text": [
      "100%|█████████████████████████████████████████████████████████████████████████| 10000/10000 [00:00<00:00, 15169.41it/s]\n"
     ]
    }
   ],
   "source": [
    "mc_inf = MarkovChain('../data/CFB2019_scores.csv','../data/TeamNames.txt',769,np.arange(1,10001))\n",
    "mc_inf.fit()"
   ]
  },
  {
   "cell_type": "code",
   "execution_count": 7,
   "metadata": {},
   "outputs": [],
   "source": [
    "y = []\n",
    "for i in mc_inf.team_scores:\n",
    "    y.append(np.linalg.norm((i-mc_inf.w_inf),ord=1))"
   ]
  },
  {
   "cell_type": "code",
   "execution_count": 8,
   "metadata": {},
   "outputs": [
    {
     "data": {
      "image/png": "[encoded data removed]",
      "text/plain": [
       "<Figure size 432x288 with 1 Axes>"
      ]
     },
     "metadata": {
      "needs_background": "light"
     },
     "output_type": "display_data"
    }
   ],
   "source": [
    "plt.plot(np.arange(1,10001),y)\n",
    "plt.ylabel('L1 norm between marginal distribution at timestep t')\n",
    "plt.xlabel('timestep')\n",
    "plt.title('Marginal distribution of timestep at t vs infinity')\n",
    "plt.show()"
   ]
  },
  {
   "cell_type": "code",
   "execution_count": 12,
   "metadata": {},
   "outputs": [
    {
     "data": {
      "text/plain": [
       "6.0"
      ]
     },
     "execution_count": 12,
     "metadata": {},
     "output_type": "execute_result"
    }
   ],
   "source": [
    "np.linalg.norm((np.array([1,2,3]) - np.array([0,0,0])),ord=1)"
   ]
  },
  {
   "cell_type": "code",
   "execution_count": null,
   "metadata": {},
   "outputs": [],
   "source": []
  }
 ],
 "metadata": {
  "kernelspec": {
   "display_name": "Python 3",
   "language": "python",
   "name": "python3"
  },
  "language_info": {
   "codemirror_mode": {
    "name": "ipython",
    "version": 3
   },
   "file_extension": ".py",
   "mimetype": "text/x-python",
   "name": "python",
   "nbconvert_exporter": "python",
   "pygments_lexer": "ipython3",
   "version": "3.6.8"
  }
 },
 "nbformat": 4,
 "nbformat_minor": 4
}
